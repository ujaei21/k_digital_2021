{
 "cells": [
  {
   "cell_type": "code",
   "execution_count": 1,
   "id": "8e7124e0-d82f-4a64-97f1-2cfb6b5b23d7",
   "metadata": {},
   "outputs": [],
   "source": [
    "# report which features were selected by RFE\n",
    "import pandas as pd\n",
    "from sklearn.decomposition import PCA\n",
    "from sklearn.datasets import make_classification"
   ]
  },
  {
   "cell_type": "code",
   "execution_count": 2,
   "id": "80f28e5f-56cc-4893-9c75-b2726469b43d",
   "metadata": {},
   "outputs": [],
   "source": [
    "# define dataset\n",
    "# make_classification\n",
    "# (샘플,특징의 수, 주요특징의 개수, 중복가능 횟수,난수생성(같으면 같은 난수))\n",
    "X, y = make_classification(n_samples=1000, n_features=10, n_informative=5,\n",
    "                           n_redundant=5, random_state=42)"
   ]
  },
  {
   "cell_type": "code",
   "execution_count": 3,
   "id": "ddd96378-ed31-445c-a79d-f4080f02c8a6",
   "metadata": {},
   "outputs": [
    {
     "data": {
      "text/plain": [
       "(1000, 10)"
      ]
     },
     "execution_count": 3,
     "metadata": {},
     "output_type": "execute_result"
    }
   ],
   "source": [
    "X.shape"
   ]
  },
  {
   "cell_type": "code",
   "execution_count": 4,
   "id": "42ea5d34-918d-429f-9a66-f276e1f4a73b",
   "metadata": {},
   "outputs": [
    {
     "data": {
      "text/plain": [
       "(1000,)"
      ]
     },
     "execution_count": 4,
     "metadata": {},
     "output_type": "execute_result"
    }
   ],
   "source": [
    "y.shape"
   ]
  },
  {
   "cell_type": "code",
   "execution_count": 20,
   "id": "6597668d-546b-4512-b1c7-c8440fd42fbc",
   "metadata": {},
   "outputs": [
    {
     "data": {
      "text/plain": [
       "array([[-0.05935747, -0.81075922, -1.46291185, ..., -0.71333492,\n",
       "        -0.38779067,  0.30975536],\n",
       "       [ 1.35040799,  4.22073174,  1.56416182, ..., -1.35261676,\n",
       "         0.56164546,  3.05553349],\n",
       "       [ 1.06995768,  3.02959431, -2.68448393, ...,  1.67460575,\n",
       "         1.4897756 ,  0.03734801],\n",
       "       ...,\n",
       "       [ 1.32117879,  3.00727694,  0.242322  , ..., -0.802865  ,\n",
       "         0.67092995,  2.27887143],\n",
       "       [-0.52716176,  0.70840414, -1.69716553, ..., -0.58513067,\n",
       "        -0.57348277, -0.17506291],\n",
       "       [-1.72169116, -0.78642113, -1.12858852, ...,  2.46859264,\n",
       "        -0.00922643, -2.81226403]])"
      ]
     },
     "execution_count": 20,
     "metadata": {},
     "output_type": "execute_result"
    }
   ],
   "source": [
    "X"
   ]
  },
  {
   "cell_type": "code",
   "execution_count": 5,
   "id": "c7d3429b-8e38-4ee9-97eb-5678e03e1771",
   "metadata": {},
   "outputs": [],
   "source": [
    "# define RFE\n",
    "# pca = PCA(estimator=DecisionTreeClassifier(), n_features_to_select=5)"
   ]
  },
  {
   "cell_type": "code",
   "execution_count": 7,
   "id": "3176fa25-e44a-4c59-aa39-728954553c60",
   "metadata": {},
   "outputs": [],
   "source": [
    "trans=PCA(n_components = 3)"
   ]
  },
  {
   "cell_type": "code",
   "execution_count": 19,
   "id": "f1674357-63df-4f29-a8cd-5a99b1546a5f",
   "metadata": {},
   "outputs": [
    {
     "data": {
      "text/plain": [
       "numpy.ndarray"
      ]
     },
     "execution_count": 19,
     "metadata": {},
     "output_type": "execute_result"
    }
   ],
   "source": [
    "type(X)"
   ]
  },
  {
   "cell_type": "code",
   "execution_count": 8,
   "id": "3ceb5836-e779-47f7-b14b-cdf3c2ba0fbd",
   "metadata": {},
   "outputs": [],
   "source": [
    "X_dim=trans.fit_transform(X)"
   ]
  },
  {
   "cell_type": "code",
   "execution_count": 9,
   "id": "8c5e2c15-f80a-469e-9cf2-d00566bef39a",
   "metadata": {},
   "outputs": [],
   "source": [
    "X_dim.shape[1]"
   ]
  },
  {
   "cell_type": "code",
   "execution_count": 21,
   "id": "5c3a47d3-a8e1-4616-8114-31154fd47675",
   "metadata": {},
   "outputs": [
    {
     "data": {
      "text/plain": [
       "array([[ 2.51303178e-01, -1.00943303e+00, -4.88820624e-01],\n",
       "       [-7.46995238e+00, -1.18205155e+00,  9.31007918e-01],\n",
       "       [-2.75328534e+00,  6.40100700e+00, -5.48175385e-01],\n",
       "       ...,\n",
       "       [-5.20538609e+00,  4.44188488e-03, -1.04591442e-01],\n",
       "       [-6.86710549e-01,  8.19766468e-01,  1.45121320e+00],\n",
       "       [ 1.27014720e+00,  2.68262341e+00,  1.90908455e+00]])"
      ]
     },
     "execution_count": 21,
     "metadata": {},
     "output_type": "execute_result"
    }
   ],
   "source": [
    "X_dim"
   ]
  },
  {
   "cell_type": "code",
   "execution_count": 22,
   "id": "e7b7b666-034b-4f96-bac5-fb7e801a1dda",
   "metadata": {},
   "outputs": [
    {
     "name": "stdout",
     "output_type": "stream",
     "text": [
      "[[ 0.25130318 -1.00943303 -0.48882062]\n",
      " [-7.46995238 -1.18205155  0.93100792]\n",
      " [-2.75328534  6.401007   -0.54817539]]\n"
     ]
    }
   ],
   "source": [
    "# fit RFE\n",
    "# pca.fit(X, y)\n",
    "print(X_dim[:3,:])"
   ]
  },
  {
   "cell_type": "code",
   "execution_count": 23,
   "id": "ad344f20-fded-49d1-8723-ec4ef3816f4d",
   "metadata": {},
   "outputs": [
    {
     "data": {
      "text/plain": [
       "3"
      ]
     },
     "execution_count": 23,
     "metadata": {},
     "output_type": "execute_result"
    }
   ],
   "source": [
    "# summarize all features\n",
    "X_dim.shape[1]"
   ]
  },
  {
   "cell_type": "code",
   "execution_count": null,
   "id": "a91d32ad-4ac4-498f-a6ef-207d954e5baa",
   "metadata": {},
   "outputs": [],
   "source": [
    "# pca.ranking_[5]"
   ]
  },
  {
   "cell_type": "code",
   "execution_count": null,
   "id": "476fc9e3-3454-47cb-891c-3c211f041a00",
   "metadata": {},
   "outputs": [],
   "source": [
    "# pca.support_[5]"
   ]
  },
  {
   "cell_type": "code",
   "execution_count": 24,
   "id": "9e5a538a-d73b-4919-9bdc-b770883bd3d3",
   "metadata": {},
   "outputs": [
    {
     "data": {
      "text/plain": [
       "PCA(n_components=3)"
      ]
     },
     "execution_count": 24,
     "metadata": {},
     "output_type": "execute_result"
    }
   ],
   "source": [
    "trans.fit(X_dim)"
   ]
  },
  {
   "cell_type": "code",
   "execution_count": 13,
   "id": "595b2411-ae21-43e7-878b-03435cfdd4d5",
   "metadata": {},
   "outputs": [],
   "source": [
    "pca = pd.DataFrame(data=X_dim, columns = ['principal component1', 'principal component2',\n",
    "                                          'principal component3'])"
   ]
  },
  {
   "cell_type": "code",
   "execution_count": 29,
   "id": "b886ff4b-e07f-408d-8552-441fd91bd171",
   "metadata": {},
   "outputs": [
    {
     "data": {
      "text/html": [
       "<div>\n",
       "<style scoped>\n",
       "    .dataframe tbody tr th:only-of-type {\n",
       "        vertical-align: middle;\n",
       "    }\n",
       "\n",
       "    .dataframe tbody tr th {\n",
       "        vertical-align: top;\n",
       "    }\n",
       "\n",
       "    .dataframe thead th {\n",
       "        text-align: right;\n",
       "    }\n",
       "</style>\n",
       "<table border=\"1\" class=\"dataframe\">\n",
       "  <thead>\n",
       "    <tr style=\"text-align: right;\">\n",
       "      <th></th>\n",
       "      <th>principal component1</th>\n",
       "      <th>principal component2</th>\n",
       "      <th>principal component3</th>\n",
       "    </tr>\n",
       "  </thead>\n",
       "  <tbody>\n",
       "    <tr>\n",
       "      <th>0</th>\n",
       "      <td>0.251303</td>\n",
       "      <td>-1.009433</td>\n",
       "      <td>-0.488821</td>\n",
       "    </tr>\n",
       "    <tr>\n",
       "      <th>1</th>\n",
       "      <td>-7.469952</td>\n",
       "      <td>-1.182052</td>\n",
       "      <td>0.931008</td>\n",
       "    </tr>\n",
       "    <tr>\n",
       "      <th>2</th>\n",
       "      <td>-2.753285</td>\n",
       "      <td>6.401007</td>\n",
       "      <td>-0.548175</td>\n",
       "    </tr>\n",
       "    <tr>\n",
       "      <th>3</th>\n",
       "      <td>-0.157705</td>\n",
       "      <td>0.562171</td>\n",
       "      <td>0.802498</td>\n",
       "    </tr>\n",
       "    <tr>\n",
       "      <th>4</th>\n",
       "      <td>-0.767812</td>\n",
       "      <td>-3.430093</td>\n",
       "      <td>2.044420</td>\n",
       "    </tr>\n",
       "    <tr>\n",
       "      <th>...</th>\n",
       "      <td>...</td>\n",
       "      <td>...</td>\n",
       "      <td>...</td>\n",
       "    </tr>\n",
       "    <tr>\n",
       "      <th>995</th>\n",
       "      <td>6.550398</td>\n",
       "      <td>0.725700</td>\n",
       "      <td>-3.871207</td>\n",
       "    </tr>\n",
       "    <tr>\n",
       "      <th>996</th>\n",
       "      <td>7.352176</td>\n",
       "      <td>-0.625899</td>\n",
       "      <td>0.493420</td>\n",
       "    </tr>\n",
       "    <tr>\n",
       "      <th>997</th>\n",
       "      <td>-5.205386</td>\n",
       "      <td>0.004442</td>\n",
       "      <td>-0.104591</td>\n",
       "    </tr>\n",
       "    <tr>\n",
       "      <th>998</th>\n",
       "      <td>-0.686711</td>\n",
       "      <td>0.819766</td>\n",
       "      <td>1.451213</td>\n",
       "    </tr>\n",
       "    <tr>\n",
       "      <th>999</th>\n",
       "      <td>1.270147</td>\n",
       "      <td>2.682623</td>\n",
       "      <td>1.909085</td>\n",
       "    </tr>\n",
       "  </tbody>\n",
       "</table>\n",
       "<p>1000 rows × 3 columns</p>\n",
       "</div>"
      ],
      "text/plain": [
       "     principal component1  principal component2  principal component3\n",
       "0                0.251303             -1.009433             -0.488821\n",
       "1               -7.469952             -1.182052              0.931008\n",
       "2               -2.753285              6.401007             -0.548175\n",
       "3               -0.157705              0.562171              0.802498\n",
       "4               -0.767812             -3.430093              2.044420\n",
       "..                    ...                   ...                   ...\n",
       "995              6.550398              0.725700             -3.871207\n",
       "996              7.352176             -0.625899              0.493420\n",
       "997             -5.205386              0.004442             -0.104591\n",
       "998             -0.686711              0.819766              1.451213\n",
       "999              1.270147              2.682623              1.909085\n",
       "\n",
       "[1000 rows x 3 columns]"
      ]
     },
     "execution_count": 29,
     "metadata": {},
     "output_type": "execute_result"
    }
   ],
   "source": [
    "pca"
   ]
  },
  {
   "cell_type": "code",
   "execution_count": 32,
   "id": "ec167964-97a4-4779-a79b-abf101dbb4fb",
   "metadata": {},
   "outputs": [
    {
     "data": {
      "text/plain": [
       "array([0.63054713, 0.22624084, 0.14321202])"
      ]
     },
     "execution_count": 32,
     "metadata": {},
     "output_type": "execute_result"
    }
   ],
   "source": [
    "trans.explained_variance_ratio_"
   ]
  },
  {
   "cell_type": "code",
   "execution_count": 33,
   "id": "e9990dff-85e4-4277-a16f-1c0c9df7e623",
   "metadata": {},
   "outputs": [
    {
     "data": {
      "text/plain": [
       "array([[ 1.00000000e+00,  0.00000000e+00,  0.00000000e+00],\n",
       "       [-0.00000000e+00,  1.00000000e+00,  1.11022302e-15],\n",
       "       [ 0.00000000e+00, -1.11022302e-15,  1.00000000e+00]])"
      ]
     },
     "execution_count": 33,
     "metadata": {},
     "output_type": "execute_result"
    }
   ],
   "source": [
    "trans.components_"
   ]
  },
  {
   "cell_type": "code",
   "execution_count": 17,
   "id": "d3fbfe0d-5d03-4815-8e10-540a7b7a9219",
   "metadata": {},
   "outputs": [
    {
     "data": {
      "text/plain": [
       "sklearn.decomposition._pca.PCA"
      ]
     },
     "execution_count": 17,
     "metadata": {},
     "output_type": "execute_result"
    }
   ],
   "source": [
    "type(trans)"
   ]
  },
  {
   "cell_type": "code",
   "execution_count": null,
   "id": "ea4db235-dc6f-4cfe-8625-bfc2ded7f1f2",
   "metadata": {},
   "outputs": [],
   "source": []
  }
 ],
 "metadata": {
  "kernelspec": {
   "display_name": "Python Multi",
   "language": "python",
   "name": "multi"
  },
  "language_info": {
   "codemirror_mode": {
    "name": "ipython",
    "version": 3
   },
   "file_extension": ".py",
   "mimetype": "text/x-python",
   "name": "python",
   "nbconvert_exporter": "python",
   "pygments_lexer": "ipython3",
   "version": "3.7.6"
  }
 },
 "nbformat": 4,
 "nbformat_minor": 5
}
