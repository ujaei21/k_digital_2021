{
 "cells": [
  {
   "cell_type": "markdown",
   "id": "presidential-voice",
   "metadata": {},
   "source": [
    "### PCA"
   ]
  },
  {
   "cell_type": "code",
   "execution_count": 1,
   "id": "yellow-slope",
   "metadata": {},
   "outputs": [],
   "source": [
    "# example of pca for dimensionality reduction\n",
    "from sklearn.datasets import make_classification\n",
    "from sklearn.decomposition import PCA"
   ]
  },
  {
   "cell_type": "code",
   "execution_count": 2,
   "id": "aa35eae9-a536-4f46-bff1-1067b2f31d78",
   "metadata": {},
   "outputs": [],
   "source": [
    "# define dataset\n",
    "X, y = make_classification(n_samples=1000, n_features=10, n_informative=3, n_redundant=7,\n",
    "random_state=42)"
   ]
  },
  {
   "cell_type": "code",
   "execution_count": 3,
   "id": "17e3cfcc-5624-4051-b306-e18d986163b0",
   "metadata": {},
   "outputs": [
    {
     "data": {
      "text/plain": [
       "array([[ 1.01533828,  0.40950637, -0.2236816 , ...,  0.71619909,\n",
       "        -0.7093834 ,  0.78372028],\n",
       "       [ 0.18540616,  0.06691524, -0.91196812, ...,  0.87663113,\n",
       "        -0.83979125, -0.28746412],\n",
       "       [ 1.14342472, -0.22883051,  0.29731102, ...,  1.21464634,\n",
       "         1.06263249,  0.19764692],\n",
       "       ...,\n",
       "       [ 0.39294157,  1.53374983,  0.42991765, ..., -1.89729868,\n",
       "        -2.64160023,  2.44483306],\n",
       "       [ 1.18447362,  0.68090168,  0.90654416, ..., -0.40756378,\n",
       "        -0.26754713,  1.75644971],\n",
       "       [-0.78785855, -0.73517166, -0.78102755, ...,  0.77824137,\n",
       "         0.60373705, -1.6425565 ]])"
      ]
     },
     "execution_count": 3,
     "metadata": {},
     "output_type": "execute_result"
    }
   ],
   "source": [
    "X[3:]"
   ]
  },
  {
   "cell_type": "code",
   "execution_count": 4,
   "id": "smooth-camera",
   "metadata": {},
   "outputs": [
    {
     "name": "stdout",
     "output_type": "stream",
     "text": [
      "[[ 1.96509758 -1.79125079  0.89880543]\n",
      " [-4.78188145  1.04465149  0.73739426]\n",
      " [-1.61809471 -1.17635974 -1.69601904]]\n"
     ]
    }
   ],
   "source": [
    "# define the transform\n",
    "trans = PCA(n_components=3)\n",
    "\n",
    "# transform the data\n",
    "X_dim = trans.fit_transform(X)\n",
    "\n",
    "# summarize data after the transform\n",
    "print(X_dim[:3, :])"
   ]
  },
  {
   "cell_type": "code",
   "execution_count": 5,
   "id": "fossil-piece",
   "metadata": {},
   "outputs": [
    {
     "data": {
      "text/plain": [
       "array([0.68106645, 0.22109656, 0.09783698])"
      ]
     },
     "execution_count": 5,
     "metadata": {},
     "output_type": "execute_result"
    }
   ],
   "source": [
    "trans.explained_variance_ratio_"
   ]
  },
  {
   "cell_type": "code",
   "execution_count": null,
   "id": "4e633ecd-7d1c-4aa9-9a9a-330aeaf34ed7",
   "metadata": {},
   "outputs": [],
   "source": []
  }
 ],
 "metadata": {
  "kernelspec": {
   "display_name": "Python Multi",
   "language": "python",
   "name": "multi"
  },
  "language_info": {
   "codemirror_mode": {
    "name": "ipython",
    "version": 3
   },
   "file_extension": ".py",
   "mimetype": "text/x-python",
   "name": "python",
   "nbconvert_exporter": "python",
   "pygments_lexer": "ipython3",
   "version": "3.7.6"
  }
 },
 "nbformat": 4,
 "nbformat_minor": 5
}
