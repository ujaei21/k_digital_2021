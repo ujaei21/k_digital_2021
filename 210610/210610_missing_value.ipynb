{
 "cells": [
  {
   "cell_type": "code",
   "execution_count": 3,
   "id": "674eef02-b64f-4f14-a870-a7d89d58e2ad",
   "metadata": {},
   "outputs": [],
   "source": [
    "# statistical imputation transform for the horse colic dataset\n",
    "\n",
    "from numpy import isnan\n",
    "from pandas import read_csv\n",
    "from sklearn.impute import SimpleImputer"
   ]
  },
  {
   "cell_type": "code",
   "execution_count": 4,
   "id": "7fd3f64f-e0b3-4031-92f2-e6ab70603476",
   "metadata": {},
   "outputs": [],
   "source": [
    "url = 'https://raw.githubusercontent.com/jbrownlee/Datasets/master/horse-colic.csv'\n",
    "dataframe = read_csv(url, header=None, na_values='?')"
   ]
  },
  {
   "cell_type": "code",
   "execution_count": 12,
   "id": "238af011-5bc4-43ef-8fec-930309aafbe3",
   "metadata": {},
   "outputs": [
    {
     "name": "stdout",
     "output_type": "stream",
     "text": [
      "<class 'pandas.core.frame.DataFrame'>\n",
      "RangeIndex: 300 entries, 0 to 299\n",
      "Data columns (total 28 columns):\n",
      " #   Column  Non-Null Count  Dtype  \n",
      "---  ------  --------------  -----  \n",
      " 0   0       299 non-null    float64\n",
      " 1   1       300 non-null    int64  \n",
      " 2   2       300 non-null    int64  \n",
      " 3   3       240 non-null    float64\n",
      " 4   4       276 non-null    float64\n",
      " 5   5       242 non-null    float64\n",
      " 6   6       244 non-null    float64\n",
      " 7   7       231 non-null    float64\n",
      " 8   8       253 non-null    float64\n",
      " 9   9       268 non-null    float64\n",
      " 10  10      245 non-null    float64\n",
      " 11  11      256 non-null    float64\n",
      " 12  12      244 non-null    float64\n",
      " 13  13      196 non-null    float64\n",
      " 14  14      194 non-null    float64\n",
      " 15  15      53 non-null     float64\n",
      " 16  16      198 non-null    float64\n",
      " 17  17      182 non-null    float64\n",
      " 18  18      271 non-null    float64\n",
      " 19  19      267 non-null    float64\n",
      " 20  20      135 non-null    float64\n",
      " 21  21      102 non-null    float64\n",
      " 22  22      299 non-null    float64\n",
      " 23  23      300 non-null    int64  \n",
      " 24  24      300 non-null    int64  \n",
      " 25  25      300 non-null    int64  \n",
      " 26  26      300 non-null    int64  \n",
      " 27  27      300 non-null    int64  \n",
      "dtypes: float64(21), int64(7)\n",
      "memory usage: 65.8 KB\n"
     ]
    }
   ],
   "source": [
    "dataframe.info()"
   ]
  },
  {
   "cell_type": "code",
   "execution_count": 5,
   "id": "38b4a88e-a2fc-4450-959d-b437067784c2",
   "metadata": {},
   "outputs": [],
   "source": [
    "# split into input and output elements\n",
    "data = dataframe.values\n",
    "ix = [i for i in range(data.shape[1]) if i != 23]\n",
    "X, y = data[:, ix], data[:, 23]"
   ]
  },
  {
   "cell_type": "code",
   "execution_count": 24,
   "id": "70fc2613-60c7-4297-b6f7-2a4338a6ac2f",
   "metadata": {},
   "outputs": [
    {
     "name": "stdout",
     "output_type": "stream",
     "text": [
      "Missing: 1605\n"
     ]
    }
   ],
   "source": [
    "# print total missing\n",
    "print('Missing: %d' % sum(isnan(X).flatten()))"
   ]
  },
  {
   "cell_type": "code",
   "execution_count": 15,
   "id": "0a251a9a-e90e-4f4c-b10c-d45c6ed202f1",
   "metadata": {},
   "outputs": [],
   "source": [
    "# define imputer\n",
    "imputer = SimpleImputer(strategy='median')"
   ]
  },
  {
   "cell_type": "code",
   "execution_count": 17,
   "id": "4235668a-d407-4dab-b569-f8a30269ccea",
   "metadata": {},
   "outputs": [
    {
     "data": {
      "text/plain": [
       "SimpleImputer(strategy='median')"
      ]
     },
     "execution_count": 17,
     "metadata": {},
     "output_type": "execute_result"
    }
   ],
   "source": [
    "# fit on the dataset\n",
    "imputer.fit(X)"
   ]
  },
  {
   "cell_type": "code",
   "execution_count": 18,
   "id": "70e317eb-1adb-4056-9720-af73f88eec21",
   "metadata": {},
   "outputs": [],
   "source": [
    "# transform the dataset\n",
    "Xtrans = imputer.transform(X)"
   ]
  },
  {
   "cell_type": "code",
   "execution_count": 19,
   "id": "73333f85-4110-4dad-8d27-1c10331151ce",
   "metadata": {},
   "outputs": [
    {
     "name": "stdout",
     "output_type": "stream",
     "text": [
      "Missing: 0\n"
     ]
    }
   ],
   "source": [
    "# print total missing\n",
    "print('Missing: %d' % sum(isnan(Xtrans).flatten()))"
   ]
  },
  {
   "cell_type": "code",
   "execution_count": 20,
   "id": "d567d6dc-c53c-467f-8b74-338bfa1b415d",
   "metadata": {},
   "outputs": [
    {
     "data": {
      "text/plain": [
       "array([2.00000e+00, 1.00000e+00, 5.30101e+05, 3.85000e+01, 6.60000e+01,\n",
       "       2.80000e+01, 3.00000e+00, 3.00000e+00, 3.00000e+00, 2.00000e+00,\n",
       "       5.00000e+00, 4.00000e+00, 4.00000e+00, 2.00000e+00, 1.00000e+00,\n",
       "       5.00000e+00, 3.00000e+00, 5.00000e+00, 4.50000e+01, 8.40000e+00,\n",
       "       2.00000e+00, 2.25000e+00, 2.00000e+00, 1.13000e+04, 0.00000e+00,\n",
       "       0.00000e+00, 2.00000e+00])"
      ]
     },
     "execution_count": 20,
     "metadata": {},
     "output_type": "execute_result"
    }
   ],
   "source": [
    "Xtrans[0,:]"
   ]
  },
  {
   "cell_type": "code",
   "execution_count": null,
   "id": "ede1b578-954c-44c0-9ff0-26f8ac1c634d",
   "metadata": {},
   "outputs": [],
   "source": []
  }
 ],
 "metadata": {
  "kernelspec": {
   "display_name": "Python Multi",
   "language": "python",
   "name": "multi"
  },
  "language_info": {
   "codemirror_mode": {
    "name": "ipython",
    "version": 3
   },
   "file_extension": ".py",
   "mimetype": "text/x-python",
   "name": "python",
   "nbconvert_exporter": "python",
   "pygments_lexer": "ipython3",
   "version": "3.7.6"
  }
 },
 "nbformat": 4,
 "nbformat_minor": 5
}
